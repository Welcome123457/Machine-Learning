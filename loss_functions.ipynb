{
 "cells": [
  {
   "cell_type": "code",
   "execution_count": 3,
   "id": "fafed1c9-a43a-4765-9a75-23b516a53802",
   "metadata": {},
   "outputs": [],
   "source": [
    "import numpy as np"
   ]
  },
  {
   "cell_type": "code",
   "execution_count": 7,
   "id": "a89a8f35-d6d6-4db8-9ba7-23f475295a0c",
   "metadata": {},
   "outputs": [],
   "source": [
    "y_predicted =np.array([1,1,0,0,1])\n",
    "y_true=np.array([0.30,0.7,1,1,0.5])"
   ]
  },
  {
   "cell_type": "code",
   "execution_count": 17,
   "id": "6e6fff13-8423-4e02-b5b2-6a1f12020c8d",
   "metadata": {},
   "outputs": [],
   "source": [
    "def mae(y_true, y_predicted):\n",
    "    total_error=0\n",
    "    for yt,yp in zip(y_true,y_predicted):\n",
    "        total_error += abs(yt-yp)\n",
    "        print(\"total error:\",total_error)\n",
    "        mae=total_error/len(y_true)\n",
    "        print(\"mae:\",mae)\n",
    "        return mae"
   ]
  },
  {
   "cell_type": "code",
   "execution_count": 23,
   "id": "30869900-f865-40ef-8e0a-e7e91a45630a",
   "metadata": {},
   "outputs": [
    {
     "name": "stdout",
     "output_type": "stream",
     "text": [
      "total error: 0.7\n",
      "mae: 0.13999999999999999\n"
     ]
    },
    {
     "data": {
      "text/plain": [
       "0.13999999999999999"
      ]
     },
     "execution_count": 23,
     "metadata": {},
     "output_type": "execute_result"
    }
   ],
   "source": [
    "mae(y_true,y_predicted)"
   ]
  }
 ],
 "metadata": {
  "kernelspec": {
   "display_name": "Python 3 (ipykernel)",
   "language": "python",
   "name": "python3"
  },
  "language_info": {
   "codemirror_mode": {
    "name": "ipython",
    "version": 3
   },
   "file_extension": ".py",
   "mimetype": "text/x-python",
   "name": "python",
   "nbconvert_exporter": "python",
   "pygments_lexer": "ipython3",
   "version": "3.12.4"
  }
 },
 "nbformat": 4,
 "nbformat_minor": 5
}
