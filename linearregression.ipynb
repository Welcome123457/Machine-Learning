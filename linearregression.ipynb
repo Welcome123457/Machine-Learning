{
 "cells": [
  {
   "cell_type": "raw",
   "id": "45a6e36d-3314-4b6c-b907-932f0dd28b75",
   "metadata": {},
   "source": [
    "import numpy as np"
   ]
  },
  {
   "cell_type": "code",
   "execution_count": 17,
   "id": "4c97970e-ce0d-4f05-b6fb-7d08da396170",
   "metadata": {},
   "outputs": [],
   "source": [
    "import tensorflow.compat.v1 as tf"
   ]
  },
  {
   "cell_type": "code",
   "execution_count": 4,
   "id": "46d40b62-f66a-44fb-b0c3-346d0bf462dd",
   "metadata": {},
   "outputs": [],
   "source": [
    "import numpy as np\n",
    "import matplotlib.pyplot as plt"
   ]
  },
  {
   "cell_type": "code",
   "execution_count": 5,
   "id": "8c8197f7-dbcc-49b5-a48f-0ee525f1801e",
   "metadata": {},
   "outputs": [],
   "source": [
    "x_data=np.linspace(0,10,10)+ np.random.uniform(-1.5,1.5,10)"
   ]
  },
  {
   "cell_type": "code",
   "execution_count": 6,
   "id": "bfdbf7a3-347e-4604-badc-c6825e5ac7c2",
   "metadata": {},
   "outputs": [
    {
     "data": {
      "text/plain": [
       "array([-1.02421672,  0.62394123,  2.87825916,  2.21081457,  3.51651719,\n",
       "        4.88353972,  5.90797051,  6.8492745 ,  9.37057432,  9.55105456])"
      ]
     },
     "execution_count": 6,
     "metadata": {},
     "output_type": "execute_result"
    }
   ],
   "source": [
    "x_data"
   ]
  },
  {
   "cell_type": "code",
   "execution_count": 7,
   "id": "c695657b-82e6-434e-a41d-7178aee52e39",
   "metadata": {},
   "outputs": [],
   "source": [
    "y_labels=np.linspace(0,10,10)+ np.random.uniform(-1.5,1.5,10)"
   ]
  },
  {
   "cell_type": "code",
   "execution_count": 8,
   "id": "bf100bf8-433b-4f23-8826-cdc46292f3a4",
   "metadata": {},
   "outputs": [
    {
     "data": {
      "text/plain": [
       "array([-0.50385433,  1.70411223,  2.34655208,  4.63574889,  4.14514667,\n",
       "        5.59055441,  5.6082856 ,  9.03877902,  8.91202998, 10.0682173 ])"
      ]
     },
     "execution_count": 8,
     "metadata": {},
     "output_type": "execute_result"
    }
   ],
   "source": [
    "y_labels"
   ]
  },
  {
   "cell_type": "code",
   "execution_count": 9,
   "id": "9b229ffd-ed75-4b6c-8523-4a438bfdb95a",
   "metadata": {},
   "outputs": [
    {
     "data": {
      "text/plain": [
       "[<matplotlib.lines.Line2D at 0x1da014b80e0>]"
      ]
     },
     "execution_count": 9,
     "metadata": {},
     "output_type": "execute_result"
    },
    {
     "data": {
      "image/png": "[encoded data removed]",
      "text/plain": [
       "<Figure size 640x480 with 1 Axes>"
      ]
     },
     "metadata": {},
     "output_type": "display_data"
    }
   ],
   "source": [
    "plt.plot(x_data,y_labels,\"*\")"
   ]
  },
  {
   "cell_type": "code",
   "execution_count": 10,
   "id": "65c14177-e1eb-4364-b0cb-8eaba3ca823f",
   "metadata": {},
   "outputs": [
    {
     "data": {
      "text/plain": [
       "array([0.58037759, 0.86621551])"
      ]
     },
     "execution_count": 10,
     "metadata": {},
     "output_type": "execute_result"
    }
   ],
   "source": [
    "np.random.rand(2)"
   ]
  },
  {
   "cell_type": "code",
   "execution_count": 11,
   "id": "47c66e4a-fd0e-4eab-8d3e-5eaa1e0d9e52",
   "metadata": {},
   "outputs": [],
   "source": [
    "m=tf.Variable(0.55)"
   ]
  },
  {
   "cell_type": "code",
   "execution_count": 12,
   "id": "63c39b06-58cb-4b04-9bda-a38ce489e0dd",
   "metadata": {},
   "outputs": [],
   "source": [
    "b=tf.Variable(0.96)"
   ]
  },
  {
   "cell_type": "code",
   "execution_count": 13,
   "id": "9f41d8d0-8fd7-459b-87ff-2d727c61c30d",
   "metadata": {},
   "outputs": [
    {
     "data": {
      "text/plain": [
       "<tf.Variable 'Variable:0' shape=() dtype=float32, numpy=0.55>"
      ]
     },
     "execution_count": 13,
     "metadata": {},
     "output_type": "execute_result"
    }
   ],
   "source": [
    "m"
   ]
  },
  {
   "cell_type": "code",
   "execution_count": 14,
   "id": "5f371c07-b083-4e5b-b15d-0d250ccc7f6b",
   "metadata": {},
   "outputs": [],
   "source": [
    "error=0\n",
    "for x,y in zip(x_data,y_labels):\n",
    "    y_hat = m*x+b #our predicted value\n",
    "    error += (y-y_hat)**2"
   ]
  },
  {
   "cell_type": "code",
   "execution_count": 15,
   "id": "7f72835a-d652-43f6-94a8-ab4f535c03af",
   "metadata": {},
   "outputs": [
    {
     "data": {
      "text/plain": [
       "<tf.Tensor: shape=(), dtype=float32, numpy=6.2130804>"
      ]
     },
     "execution_count": 15,
     "metadata": {},
     "output_type": "execute_result"
    }
   ],
   "source": [
    "y_hat"
   ]
  },
  {
   "cell_type": "code",
   "execution_count": 59,
   "id": "26338c83-5989-4c91-8c2a-25e2079fab0e",
   "metadata": {},
   "outputs": [
    {
     "ename": "AttributeError",
     "evalue": "'SGD' object has no attribute 'minimize'",
     "output_type": "error",
     "traceback": [
      "\u001b[1;31m---------------------------------------------------------------------------\u001b[0m",
      "\u001b[1;31mAttributeError\u001b[0m                            Traceback (most recent call last)",
      "Cell \u001b[1;32mIn[59], line 2\u001b[0m\n\u001b[0;32m      1\u001b[0m optimizer \u001b[38;5;241m=\u001b[39m tf\u001b[38;5;241m.\u001b[39mkeras\u001b[38;5;241m.\u001b[39moptimizers\u001b[38;5;241m.\u001b[39mSGD(learning_rate\u001b[38;5;241m=\u001b[39m\u001b[38;5;241m0.01\u001b[39m)\n\u001b[1;32m----> 2\u001b[0m train\u001b[38;5;241m=\u001b[39m optimizer\u001b[38;5;241m.\u001b[39mminimize(error)\n",
      "\u001b[1;31mAttributeError\u001b[0m: 'SGD' object has no attribute 'minimize'"
     ]
    }
   ],
   "source": [
    "optimizer = tf.keras.optimizers.SGD(learning_rate=0.01)\n",
    "train= optimizer.minimize(error)"
   ]
  },
  {
   "cell_type": "code",
   "execution_count": 55,
   "id": "abcea444-1db6-4dd3-a7dd-947fdba2a42f",
   "metadata": {},
   "outputs": [],
   "source": [
    "init=tf.compat.v1.global_variables_initializer ()"
   ]
  }
 ],
 "metadata": {
  "kernelspec": {
   "display_name": "Python 3 (ipykernel)",
   "language": "python",
   "name": "python3"
  },
  "language_info": {
   "codemirror_mode": {
    "name": "ipython",
    "version": 3
   },
   "file_extension": ".py",
   "mimetype": "text/x-python",
   "name": "python",
   "nbconvert_exporter": "python",
   "pygments_lexer": "ipython3",
   "version": "3.12.4"
  }
 },
 "nbformat": 4,
 "nbformat_minor": 5
}
